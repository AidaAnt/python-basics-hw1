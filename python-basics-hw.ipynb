{
 "cells": [
  {
   "cell_type": "markdown",
   "metadata": {},
   "source": [
    "**Задание 1**. Даны 2 строки: *long_phrase* и *short_phrase*. \n",
    "Напишите код, который проверяет действительно ли длинная фраза *long_phrase* длиннее короткой *short_phrase*. И выводит *True* или *False* в зависимости от результата сравнения."
   ]
  },
  {
   "cell_type": "code",
   "execution_count": 24,
   "metadata": {},
   "outputs": [
    {
     "data": {
      "text/plain": [
       "True"
      ]
     },
     "execution_count": 24,
     "metadata": {},
     "output_type": "execute_result"
    }
   ],
   "source": [
    "long_phrase = 'Насколько проще было бы писать программы, если бы не заказчики'\n",
    "short_phrase = '640Кб должно хватить для любых задач. Билл Гейтс (по легенде)'\n",
    "len (long_phrase) > len (short_phrase)"
   ]
  },
  {
   "cell_type": "markdown",
   "metadata": {},
   "source": [
    "**Задание 2**. Дано значение объема файла в байтах. Напишите перевод этого значения в мегабайты в формате: \"*Объем файла равен 213.68Mb*\""
   ]
  },
  {
   "cell_type": "code",
   "execution_count": 33,
   "metadata": {},
   "outputs": [
    {
     "name": "stdout",
     "output_type": "stream",
     "text": [
      "Размер фала в байтах   10000000\n",
      "Размер файла в мегабайтах 10.0\n"
     ]
    }
   ],
   "source": [
    "file_volume_bt = input ('Размер фала в байтах   ')\n",
    "file_volume_mgb = int(file_volume_bytes)/1000000\n",
    "print ('Размер файла в мегабайтах' , file_volume_mgb)"
   ]
  },
  {
   "cell_type": "markdown",
   "metadata": {},
   "source": [
    "**Задание 3**. Разработать приложение для определения знака зодиака по дате рождения. Пример:\n",
    "\n",
    "Введите месяц: март\n",
    "\n",
    "Введите число: 6\n",
    "\n",
    "Вывод:\n",
    "Рыбы"
   ]
  },
  {
   "cell_type": "code",
   "execution_count": 21,
   "metadata": {},
   "outputs": [
    {
     "name": "stdout",
     "output_type": "stream",
     "text": [
      "введите месяц: декабрь\n",
      "введите число: 05\n",
      "Стрелец\n"
     ]
    }
   ],
   "source": [
    "month = input ('введите месяц: ')\n",
    "\n",
    "\n",
    "if month == 'январь':\n",
    "    month_no = 1\n",
    "if month == 'февраль':\n",
    "    month_no = 2\n",
    "if month == 'март':\n",
    "    month_no = 3\n",
    "if month == 'апрель':\n",
    "    month_no = 4\n",
    "if month == 'май':\n",
    "    month_no = 5\n",
    "if month == 'июнь':\n",
    "    month_no = 6\n",
    "if month == 'июль':\n",
    "    month_no = 7\n",
    "if month == 'август':\n",
    "    month_no = 8\n",
    "if month == 'сентябрь':\n",
    "    month_no = 9\n",
    "if month == 'октябрь':\n",
    "    month_no = 10\n",
    "if month == 'ноябрь':\n",
    "    month_no = 11\n",
    "if month == 'декабрь':\n",
    "    month_no = 12\n",
    "day = input ('введите число: ')\n",
    "\n",
    "date_number = int(str(month_no) + str(day))\n",
    "\n",
    "if date_number < 120:\n",
    "    print ('Козерог')\n",
    "if 120 < date_number < 218:\n",
    "    print ('Водолей')\n",
    "if 218 < date_number < 320:\n",
    "    print ('Рыбы')\n",
    "if 320 < date_number < 420:\n",
    "    print ('Овен')\n",
    "if 420 < date_number < 521:\n",
    "    print ('Телец')\n",
    "if 521 < date_number < 621:\n",
    "    print ('Близнецы')\n",
    "if 621 < date_number < 722:\n",
    "    print ('Рак')\n",
    "if 722 < date_number < 823:\n",
    "    print ('Лев')\n",
    "if 823 < date_number < 923:\n",
    "    print ('Дева')\n",
    "if 923 < date_number < 1023:\n",
    "    print ('Весы')\n",
    "if 1023 < date_number < 1122:\n",
    "    print ('Скорпион')\n",
    "if 1122 < date_number < 1222:\n",
    "    print ('Стрелец')\n",
    "if 1222 < date_number < 1231:\n",
    "    print ('Козерог')"
   ]
  },
  {
   "cell_type": "markdown",
   "metadata": {},
   "source": [
    "**Задание 4**. Нужно разработать приложение для финансового планирования.\n",
    "Приложение учитывает сколько уходит на ипотеку, \"на жизнь\" и сколько нужно отложить на пенсию.\n",
    "Пользователь вводит:\n",
    "- заработанную плату в месяц.\n",
    "- сколько процентов от ЗП уходит на ипотеку.\n",
    "- сколько процентов от ЗП уходит \"на жизнь\".\n",
    "\n",
    "- сколько раз приходит премия в год.\n",
    "\n",
    "Остальная часть заработанной платы откладывается на пенсию.\n",
    "\n",
    "Также пользователю приходит премия в размере зарплаты, от которой половина уходит на отпуск, а вторая половина откладывается.\n",
    "\n",
    "Программа должна учитывать сколько премий было в год.\n",
    "\n",
    "Нужно вывести сколько денег тратит пользователь на ипотеку и сколько он накопит за год.\n",
    "\n",
    "Пример:\n",
    "\n",
    "Введите заработанную плату в месяц: 100000\n",
    "\n",
    "Введите сколько процентов уходит на ипотеку: 30\n",
    "\n",
    "Введите сколько процентов уходит на жизнь: 50\n",
    "\n",
    "Введите количество премий за год: 2\n",
    "\n",
    "Вывод:\n",
    "На ипотеку было потрачено: 360000 рублей\n",
    "Было накоплено: 340000 рублей"
   ]
  },
  {
   "cell_type": "code",
   "execution_count": 15,
   "metadata": {},
   "outputs": [
    {
     "name": "stdout",
     "output_type": "stream",
     "text": [
      "Введите заработанную плату в месяц:  100000\n",
      "Введите сколько процентов уходит на ипотеку:  30\n",
      "Введите сколько процентов уходит на жизнь:  50\n",
      "Введите количество премий за год:   2\n",
      "Вывод:\n",
      "На ипотеку было потрачено: 360000.0 рублей\n",
      "Было накоплено: 340000.0 рублей\n"
     ]
    }
   ],
   "source": [
    "salary_per_month = input ('Введите заработанную плату в месяц:  ')\n",
    "mortgage_percent = input ('Введите сколько процентов уходит на ипотеку:  ')\n",
    "expences_percent = input ('Введите сколько процентов уходит на жизнь:  ')\n",
    "bonus_number = input ('Введите количество премий за год:   ')\n",
    "mortgage_amount = int (salary_per_month) * int (mortgage_percent) / 100\n",
    "expences_amount = int (salary_per_month) * int (expences_percent) / 100\n",
    "bonus_amount = int (salary_per_month) * int (bonus_number)\n",
    "savings_amount = (int (salary_per_month) - int (mortgage_amount) - int (expences_amount)) * 12 + int (bonus_amount) / 2\n",
    "\n",
    "print ('Вывод:')\n",
    "print ('На ипотеку было потрачено:', mortgage_amount * 12, 'рублей')\n",
    "print ('Было накоплено:', savings_amount, 'рублей')"
   ]
  },
  {
   "cell_type": "code",
   "execution_count": 17,
   "metadata": {},
   "outputs": [
    {
     "name": "stdout",
     "output_type": "stream",
     "text": [
      "fizzbuzz\n",
      "1\n",
      "2\n",
      "fizz\n",
      "4\n",
      "buzz\n",
      "fizz\n",
      "7\n",
      "8\n",
      "fizz\n",
      "buzz\n",
      "11\n",
      "fizz\n",
      "13\n",
      "14\n"
     ]
    }
   ],
   "source": [
    "for fizzbuzz in range(15):\n",
    "    if fizzbuzz % 3 == 0 and fizzbuzz % 5 == 0:\n",
    "        print(\"fizzbuzz\")\n",
    "        continue\n",
    "    elif fizzbuzz % 3 == 0:\n",
    "        print(\"fizz\")\n",
    "        continue\n",
    "    elif fizzbuzz % 5 == 0:\n",
    "        print(\"buzz\")\n",
    "        continue\n",
    "    print(fizzbuzz)"
   ]
  },
  {
   "cell_type": "code",
   "execution_count": 32,
   "metadata": {},
   "outputs": [],
   "source": [
    "\n"
   ]
  },
  {
   "cell_type": "code",
   "execution_count": null,
   "metadata": {},
   "outputs": [],
   "source": []
  }
 ],
 "metadata": {
  "kernelspec": {
   "display_name": "Python 3",
   "language": "python",
   "name": "python3"
  },
  "language_info": {
   "codemirror_mode": {
    "name": "ipython",
    "version": 3
   },
   "file_extension": ".py",
   "mimetype": "text/x-python",
   "name": "python",
   "nbconvert_exporter": "python",
   "pygments_lexer": "ipython3",
   "version": "3.7.4"
  }
 },
 "nbformat": 4,
 "nbformat_minor": 2
}
